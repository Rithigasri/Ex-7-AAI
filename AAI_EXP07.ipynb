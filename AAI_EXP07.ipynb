{
  "nbformat": 4,
  "nbformat_minor": 0,
  "metadata": {
    "colab": {
      "provenance": [],
      "authorship_tag": "ABX9TyNqbYlBOLhpp24kZRDxD6+3",
      "include_colab_link": true
    },
    "kernelspec": {
      "name": "python3",
      "display_name": "Python 3"
    },
    "language_info": {
      "name": "python"
    }
  },
  "cells": [
    {
      "cell_type": "markdown",
      "metadata": {
        "id": "view-in-github",
        "colab_type": "text"
      },
      "source": [
        "<a href=\"https://colab.research.google.com/github/Rithigasri/Ex-7-AAI/blob/main/AAI_EXP07.ipynb\" target=\"_parent\"><img src=\"https://colab.research.google.com/assets/colab-badge.svg\" alt=\"Open In Colab\"/></a>"
      ]
    },
    {
      "cell_type": "code",
      "execution_count": 1,
      "metadata": {
        "colab": {
          "base_uri": "https://localhost:8080/"
        },
        "id": "u8U3HvaJUz0W",
        "outputId": "4fa1773d-c5e2-4c9a-8dc5-04fe8e8fe1d2"
      },
      "outputs": [
        {
          "output_type": "stream",
          "name": "stderr",
          "text": [
            "[nltk_data] Downloading package punkt to /root/nltk_data...\n",
            "[nltk_data]   Unzipping tokenizers/punkt.zip.\n"
          ]
        },
        {
          "output_type": "stream",
          "name": "stdout",
          "text": [
            "Origina1 Text: \n",
            "\n",
            "\tNatural language processing (NLP) is a subfield of artificial intelligence.\n",
            "\tIt involves the development of algorithms and models that enact NLP.\n",
            "\tNLP is used in various applications, including chatbots, language Understanding, and language generation.\n",
            "\tThis program demonstrates a simple text summarization using NLP\n",
            " \n",
            "Summary : \n",
            "NLP is used in various applications, including chatbots, language Understanding, and language generation. \n",
            "\tNatural language processing (NLP) is a subfield of artificial intelligence. It involves the development of algorithms and models that enact NLP.\n"
          ]
        },
        {
          "output_type": "stream",
          "name": "stderr",
          "text": [
            "[nltk_data] Downloading package stopwords to /root/nltk_data...\n",
            "[nltk_data]   Unzipping corpora/stopwords.zip.\n"
          ]
        }
      ],
      "source": [
        "import nltk\n",
        "from nltk.corpus import stopwords\n",
        "from nltk.tokenize import word_tokenize,sent_tokenize\n",
        "from nltk.stem import PorterStemmer\n",
        "nltk.download( 'punkt' )\n",
        "nltk.download( 'stopwords' )\n",
        "\n",
        "def preprocess_text(text):\n",
        "\t# Tokenize the text into words\n",
        "\twords = word_tokenize(text)\n",
        "\t# Remove stopwords and punctuation\n",
        "\tstop_words= set(stopwords.words( 'english'))\n",
        "\tfiltered_words= [word for word in words if word. lower() not in stop_words and word.isalnum()]\n",
        "\n",
        "\t# Stemming\n",
        "\tstemmer = PorterStemmer()\n",
        "\n",
        "\tstemmed_words= [stemmer. stem(word) for word in filtered_words]\n",
        "\treturn stemmed_words\n",
        "\n",
        "def generate_summary(text,num_sentences=3):\n",
        "\tsentences= sent_tokenize(text)\n",
        "\tpreprocessed_text = preprocess_text(text)\n",
        "\t# Calculate the frequency of each word\n",
        "\tword_frequencies =nltk. FreqDist (preprocessed_text)\n",
        "\n",
        "\t# Calculate the score for each sentence based on word frequency\n",
        "\tsentence_scores ={}\n",
        "\tfor sentence in sentences:\n",
        "\t\tfor word, freq in word_frequencies.items():\n",
        "\t\t\tif word in sentence.lower():\n",
        "\t\t\t\tif sentence not in sentence_scores:\n",
        "\t\t\t\t\tsentence_scores[sentence] = freq\n",
        "\t\t\t\telse:\n",
        "\t\t\t\t\tsentence_scores[sentence]+= freq\n",
        "\t# Select top N sentences with highest scores\n",
        "\tsummary_sentences= sorted(sentence_scores, key=sentence_scores.get,reverse=True) [ : num_sentences]\n",
        "\n",
        "\treturn ' '. join(summary_sentences)\n",
        "\n",
        "if __name__==\"__main__\":\n",
        "\tinput_text =\"\"\"\n",
        "\tNatural language processing (NLP) is a subfield of artificial intelligence.\n",
        "\tIt involves the development of algorithms and models that enact NLP.\n",
        "\tNLP is used in various applications, including chatbots, language Understanding, and language generation.\n",
        "\tThis program demonstrates a simple text summarization using NLP\"\"\"\n",
        "summary = generate_summary(input_text)\n",
        "print(\"Origina1 Text: \")\n",
        "print (input_text )\n",
        "print( \" \\nSummary : \" )\n",
        "print(summary)\n"
      ]
    },
    {
      "cell_type": "code",
      "source": [],
      "metadata": {
        "id": "E99cNN73U3C1"
      },
      "execution_count": null,
      "outputs": []
    }
  ]
}